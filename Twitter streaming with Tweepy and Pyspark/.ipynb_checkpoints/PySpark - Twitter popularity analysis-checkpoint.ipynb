{
 "cells": [
  {
   "cell_type": "code",
   "execution_count": 1,
   "metadata": {
    "collapsed": false
   },
   "outputs": [],
   "source": [
    "#Importing Library and setting environment path\n",
    "import os\n",
    "import sys\n",
    "#set the path \n",
    "os.environ['SPARK_HOME'] = \"C:/Spark\"\n",
    "sys.path.append(\"C:/Spark/bin\")\n",
    "sys.path.append(\"C:/Spark/python\")\n",
    "sys.path.append(\"C:/Spark/python/pyspark\")\n",
    "sys.path.append(\"C:/Spark/python/pyspark/lib\")\n",
    "sys.path.append(\"C:/Spark/python/pyspark/lib/pyspark.zip\")\n",
    "sys.path.append(\"C:/Spark/python/pyspark/lib/py4j-0.10.3-src.zip\")\n",
    "sys.path.append(\"C:/Program Files/Java/jre1.8.0_111/bin\")\n",
    "from pyspark import SparkContext\n",
    "from pyspark.streaming import StreamingContext\n",
    "from pyspark.sql import SQLContext, Row\n",
    "from pyspark.sql.types import StructType,StructField,StringType,IntegerType\n",
    "from pyspark.sql.functions import desc\n",
    "import pandas as pd\n",
    "import numpy as np"
   ]
  },
  {
   "cell_type": "code",
   "execution_count": 2,
   "metadata": {
    "collapsed": false
   },
   "outputs": [],
   "source": [
    "c = set(['ronaldo','messi'])\n",
    "sc = SparkContext(\"local[6]\", \"Twitterapi\")\n",
    "ssc = StreamingContext(sc, 10)\n",
    "sqlContext = SQLContext(sc)\n",
    "socket_stream = ssc.socketTextStream(\"localhost\", 5555)\n",
    "lines = socket_stream.window(20)"
   ]
  },
  {
   "cell_type": "code",
   "execution_count": null,
   "metadata": {
    "collapsed": false
   },
   "outputs": [
    {
     "name": "stdout",
     "output_type": "stream",
     "text": [
      "-------------------------------------------\n",
      "Time: 2017-01-13 19:19:50\n",
      "-------------------------------------------\n",
      "\n",
      "-------------------------------------------\n",
      "Time: 2017-01-13 19:20:00\n",
      "-------------------------------------------\n",
      "<Row(messi, 1)>\n",
      "\n",
      "-------------------------------------------\n",
      "Time: 2017-01-13 19:20:10\n",
      "-------------------------------------------\n",
      "<Row(messi, 4)>\n",
      "\n",
      "-------------------------------------------\n",
      "Time: 2017-01-13 19:20:20\n",
      "-------------------------------------------\n",
      "<Row(messi, 5)>\n",
      "<Row(ronaldo, 1)>\n",
      "\n",
      "-------------------------------------------\n",
      "Time: 2017-01-13 19:20:30\n",
      "-------------------------------------------\n",
      "<Row(messi, 3)>\n",
      "<Row(ronaldo, 3)>\n",
      "\n",
      "-------------------------------------------\n",
      "Time: 2017-01-13 19:20:40\n",
      "-------------------------------------------\n",
      "<Row(messi, 2)>\n",
      "<Row(ronaldo, 3)>\n",
      "\n",
      "-------------------------------------------\n",
      "Time: 2017-01-13 19:20:50\n",
      "-------------------------------------------\n",
      "<Row(messi, 3)>\n",
      "<Row(ronaldo, 2)>\n",
      "\n"
     ]
    }
   ],
   "source": [
    "lines_1 = lines.flatMap( lambda text: list(c.intersection(set(text.lower().split())))) \\\n",
    ".map( lambda word: (word,1)) \\\n",
    ".reduceByKey( lambda a, b: a + b) \\\n",
    ".map(lambda rec: Row(rec[0], str(rec[1])))\n",
    "\n",
    "lines_1.pprint()\n",
    "ssc.start()\n",
    "ssc.awaitTermination()\n",
    "ssc.stop()"
   ]
  }
 ],
 "metadata": {
  "anaconda-cloud": {},
  "kernelspec": {
   "display_name": "Python [conda root]",
   "language": "python",
   "name": "conda-root-py"
  },
  "language_info": {
   "codemirror_mode": {
    "name": "ipython",
    "version": 2
   },
   "file_extension": ".py",
   "mimetype": "text/x-python",
   "name": "python",
   "nbconvert_exporter": "python",
   "pygments_lexer": "ipython2",
   "version": "2.7.12"
  }
 },
 "nbformat": 4,
 "nbformat_minor": 1
}
